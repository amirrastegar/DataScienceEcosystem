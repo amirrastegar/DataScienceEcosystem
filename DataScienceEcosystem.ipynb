{
 "cells": [
  {
   "cell_type": "markdown",
   "id": "01390e9f-3f33-4981-b86d-c945045d3ca8",
   "metadata": {},
   "source": [
    "#Data Science Tools and Ecosystem"
   ]
  },
  {
   "cell_type": "markdown",
   "id": "c0adde1d-bdf6-4b6a-9a2c-227764d4a22d",
   "metadata": {},
   "source": [
    "In this notebook, Data Science Tools and Ecosystem are summarized."
   ]
  },
  {
   "cell_type": "markdown",
   "id": "a8d24fd7-ced2-4d4c-9888-df01d1dbea3e",
   "metadata": {},
   "source": [
    "Some of the popular languages that Data Scientists use are:"
   ]
  },
  {
   "cell_type": "markdown",
   "id": "9aec49c3-5e60-41d6-bd5b-884c0e5805e8",
   "metadata": {},
   "source": [
    "1. Python\n",
    "2. R\n",
    "3. Java\n",
    "   "
   ]
  },
  {
   "cell_type": "markdown",
   "id": "44c26e29-80af-4834-b015-37b3c159015c",
   "metadata": {},
   "source": []
  },
  {
   "cell_type": "markdown",
   "id": "de68e708-bc73-473a-8a6c-eeb374de4a3f",
   "metadata": {},
   "source": [
    "1. Pandas\n",
    "2. Numpy\n",
    "3. Matplotlib"
   ]
  },
  {
   "cell_type": "markdown",
   "id": "9979cdbf-0445-4206-a5cb-07e09e48697a",
   "metadata": {},
   "source": [
    "| Data Science Tools |\n",
    "| ------------------ |\n",
    "| Jupyter |\n",
    "| Apache Spark |\n",
    "| Tensor Flow |"
   ]
  },
  {
   "cell_type": "markdown",
   "id": "44158f31-3806-44f3-94c3-42689cb3d2eb",
   "metadata": {},
   "source": [
    "### Below are a few examples of evaluating arithmetic expressions in Python"
   ]
  },
  {
   "cell_type": "code",
   "execution_count": 12,
   "id": "706f3ed8-c81b-4b11-bfb6-857f2b034bd8",
   "metadata": {},
   "outputs": [
    {
     "data": {
      "text/plain": [
       "17"
      ]
     },
     "execution_count": 12,
     "metadata": {},
     "output_type": "execute_result"
    }
   ],
   "source": [
    "# This a simple arithmetic expression to mutiply then add integers\n",
    "\n",
    "(3*4)+5"
   ]
  },
  {
   "cell_type": "markdown",
   "id": "eccb2d01-b3b2-4416-a831-6a1e23fe3a9e",
   "metadata": {},
   "source": [
    "# This will convert 200 minutes to hours by diving by 60\n",
    "\n",
    "min=int(input(\"Enter time in minutes\"))\n",
    "h=min//60\n",
    "m=min%60\n",
    "print(\"Hours=\",h)\n",
    "print(\"Minutes=\",m)"
   ]
  },
  {
   "cell_type": "markdown",
   "id": "07bf5ec0-2cbd-4249-a950-70ad68abff27",
   "metadata": {},
   "source": [
    "**Objectives**"
   ]
  },
  {
   "cell_type": "markdown",
   "id": "6049952c-ce2c-4f57-8048-7ef5ad01cebe",
   "metadata": {},
   "source": [
    "- List popular languages for Data Science\n",
    "- Some common libraies for DS\n",
    "- Data science tools\n",
    "- Some experession in Python\n"
   ]
  },
  {
   "cell_type": "markdown",
   "id": "94f80077-9742-4e46-969b-a57453d3c7ba",
   "metadata": {},
   "source": [
    "## Author"
   ]
  },
  {
   "cell_type": "markdown",
   "id": "71976114-5218-484a-9d54-03fcdd123a0d",
   "metadata": {},
   "source": [
    "Amir Rastegar Lari"
   ]
  },
  {
   "cell_type": "code",
   "execution_count": null,
   "id": "b75d8c87-f7e3-4d90-8cd5-aefc4b0965a4",
   "metadata": {},
   "outputs": [],
   "source": []
  }
 ],
 "metadata": {
  "kernelspec": {
   "display_name": "Python 3 (ipykernel)",
   "language": "python",
   "name": "python3"
  },
  "language_info": {
   "codemirror_mode": {
    "name": "ipython",
    "version": 3
   },
   "file_extension": ".py",
   "mimetype": "text/x-python",
   "name": "python",
   "nbconvert_exporter": "python",
   "pygments_lexer": "ipython3",
   "version": "3.12.4"
  }
 },
 "nbformat": 4,
 "nbformat_minor": 5
}
